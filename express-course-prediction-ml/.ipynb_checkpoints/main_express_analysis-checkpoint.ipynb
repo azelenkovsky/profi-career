{
 "cells": [
  {
   "cell_type": "code",
   "execution_count": 1,
   "metadata": {},
   "outputs": [
    {
     "name": "stderr",
     "output_type": "stream",
     "text": [
      "/usr/local/lib/python3.7/site-packages/matplotlib/__init__.py:908: MatplotlibDeprecationWarning: The backend.qt4 rcParam was deprecated in version 2.2.  In order to force the use of a specific Qt binding, either import that binding first, or set the QT_API environment variable.\n",
      "  mplDeprecation)\n",
      "/usr/local/lib/python3.7/site-packages/IPython/core/interactiveshell.py:2785: DtypeWarning: Columns (9) have mixed types. Specify dtype option on import or set low_memory=False.\n",
      "  interactivity=interactivity, compiler=compiler, result=result)\n"
     ]
    },
    {
     "name": "stdout",
     "output_type": "stream",
     "text": [
      "Всего заказов поменяли категорию: 11881        \n",
      " Итого изменили группу: 0.010515248038956246        \n",
      " Увеличили экспресс группу на : 0.16730032668694372        \n"
     ]
    },
    {
     "data": {
      "text/html": [
       "<div>\n",
       "<style scoped>\n",
       "    .dataframe tbody tr th:only-of-type {\n",
       "        vertical-align: middle;\n",
       "    }\n",
       "\n",
       "    .dataframe tbody tr th {\n",
       "        vertical-align: top;\n",
       "    }\n",
       "\n",
       "    .dataframe thead th {\n",
       "        text-align: right;\n",
       "    }\n",
       "</style>\n",
       "<table border=\"1\" class=\"dataframe\">\n",
       "  <thead>\n",
       "    <tr style=\"text-align: right;\">\n",
       "      <th></th>\n",
       "      <th>order_typ_old</th>\n",
       "      <th>order_id</th>\n",
       "    </tr>\n",
       "  </thead>\n",
       "  <tbody>\n",
       "    <tr>\n",
       "      <th>0</th>\n",
       "      <td>v0.1, c-0. Логопеды</td>\n",
       "      <td>46</td>\n",
       "    </tr>\n",
       "    <tr>\n",
       "      <th>1</th>\n",
       "      <td>v0.1, e-0. 1-4 классы</td>\n",
       "      <td>141</td>\n",
       "    </tr>\n",
       "    <tr>\n",
       "      <th>2</th>\n",
       "      <td>v0.1, f-0. Международные экзамены</td>\n",
       "      <td>20</td>\n",
       "    </tr>\n",
       "    <tr>\n",
       "      <th>3</th>\n",
       "      <td>v0.1, g-1. ЕГЭ/ ОГЭ, 8 класс</td>\n",
       "      <td>989</td>\n",
       "    </tr>\n",
       "    <tr>\n",
       "      <th>4</th>\n",
       "      <td>v0.1, g-2. ЕГЭ/ ОГЭ, 9 класс</td>\n",
       "      <td>880</td>\n",
       "    </tr>\n",
       "    <tr>\n",
       "      <th>5</th>\n",
       "      <td>v0.1, g-3. ЕГЭ/ ОГЭ, 10 класс</td>\n",
       "      <td>2168</td>\n",
       "    </tr>\n",
       "    <tr>\n",
       "      <th>6</th>\n",
       "      <td>v0.1, g-4. ЕГЭ/ ОГЭ, 11 класс</td>\n",
       "      <td>1455</td>\n",
       "    </tr>\n",
       "    <tr>\n",
       "      <th>7</th>\n",
       "      <td>v0.1, g-5. ЕГЭ/ ОГЭ, студенты и взрослые</td>\n",
       "      <td>111</td>\n",
       "    </tr>\n",
       "    <tr>\n",
       "      <th>8</th>\n",
       "      <td>v0.1, h-1. Основные школьные, 5-7 классы</td>\n",
       "      <td>258</td>\n",
       "    </tr>\n",
       "    <tr>\n",
       "      <th>9</th>\n",
       "      <td>v0.1, h-2. Основные школьные, 8-11 классы</td>\n",
       "      <td>3233</td>\n",
       "    </tr>\n",
       "    <tr>\n",
       "      <th>10</th>\n",
       "      <td>v0.1, h-3. Основные школьные, студенты и взрослые</td>\n",
       "      <td>785</td>\n",
       "    </tr>\n",
       "    <tr>\n",
       "      <th>11</th>\n",
       "      <td>v0.1, i-0. Не основные школьные, 5-11 классы</td>\n",
       "      <td>613</td>\n",
       "    </tr>\n",
       "    <tr>\n",
       "      <th>12</th>\n",
       "      <td>v0.1, j-1. Важный экзамен, студенты и взрослые</td>\n",
       "      <td>621</td>\n",
       "    </tr>\n",
       "    <tr>\n",
       "      <th>13</th>\n",
       "      <td>v0.1, j-2. Повышение успеваемости, студенты и ...</td>\n",
       "      <td>224</td>\n",
       "    </tr>\n",
       "    <tr>\n",
       "      <th>14</th>\n",
       "      <td>v0.1, j-3. Для себя, студенты и взрослые</td>\n",
       "      <td>204</td>\n",
       "    </tr>\n",
       "    <tr>\n",
       "      <th>15</th>\n",
       "      <td>v0.1, j-4. Музыка, студенты и взрослые</td>\n",
       "      <td>133</td>\n",
       "    </tr>\n",
       "  </tbody>\n",
       "</table>\n",
       "</div>"
      ],
      "text/plain": [
       "                                        order_typ_old  order_id\n",
       "0                                 v0.1, c-0. Логопеды        46\n",
       "1                               v0.1, e-0. 1-4 классы       141\n",
       "2                   v0.1, f-0. Международные экзамены        20\n",
       "3                        v0.1, g-1. ЕГЭ/ ОГЭ, 8 класс       989\n",
       "4                        v0.1, g-2. ЕГЭ/ ОГЭ, 9 класс       880\n",
       "5                       v0.1, g-3. ЕГЭ/ ОГЭ, 10 класс      2168\n",
       "6                       v0.1, g-4. ЕГЭ/ ОГЭ, 11 класс      1455\n",
       "7            v0.1, g-5. ЕГЭ/ ОГЭ, студенты и взрослые       111\n",
       "8            v0.1, h-1. Основные школьные, 5-7 классы       258\n",
       "9           v0.1, h-2. Основные школьные, 8-11 классы      3233\n",
       "10  v0.1, h-3. Основные школьные, студенты и взрослые       785\n",
       "11       v0.1, i-0. Не основные школьные, 5-11 классы       613\n",
       "12     v0.1, j-1. Важный экзамен, студенты и взрослые       621\n",
       "13  v0.1, j-2. Повышение успеваемости, студенты и ...       224\n",
       "14           v0.1, j-3. Для себя, студенты и взрослые       204\n",
       "15             v0.1, j-4. Музыка, студенты и взрослые       133"
      ]
     },
     "execution_count": 1,
     "metadata": {},
     "output_type": "execute_result"
    }
   ],
   "source": [
    "import pandas as pd\n",
    "import numpy as np\n",
    "import seaborn as sns\n",
    "import math\n",
    "import matplotlib.pyplot as plt\n",
    "\n",
    "plt.rcParams['backend'] = \"qt4agg\"\n",
    "plt.rcParams['backend.qt4'] = \"PySide\"\n",
    "\n",
    "\n",
    "data = pd.read_csv('all_orders_3_year.tsv', delimiter = '\\t' \\\n",
    "            , dtype = {'order_typ_new': 'str',\\\n",
    "                       'order_typ_old': 'str'\n",
    "                       })\n",
    "\n",
    "\n",
    "data['new_group_mismatch'] = np.where(data['order_typ_old'] != data['order_typ_new'], 'mismatch', '+')\n",
    "\n",
    "data_mismatch = data[data['new_group_mismatch'] == 'mismatch']\n",
    "\n",
    "all_ds_orders = data_mismatch['order_id'].count()\n",
    "ds_to_all = data_mismatch['order_id'].count() / data['order_id'].count()\n",
    "change_in_express = (data_mismatch['order_id'].count() + \\\n",
    "                    data[data['order_typ_old'].str.contains('Экспресс')]['order_id'].count()) \\\n",
    "                     / data[data['order_typ_old'].str.contains('Экспресс')]['order_id'].count() - 1\n",
    "\n",
    "\n",
    "print(\"Всего заказов поменяли категорию: {a} \\\n",
    "       \\n Итого изменили группу: {b} \\\n",
    "       \\n Увеличили экспресс группу на : {c} \\\n",
    "       \".format(a=all_ds_orders, b=ds_to_all, c=change_in_express))\n",
    "del data\n",
    "data_mismatch_group_by_type = data_mismatch.groupby('order_typ_old', as_index = False)['order_id'].count()\n",
    "data_mismatch_group_by_type"
   ]
  },
  {
   "cell_type": "code",
   "execution_count": 2,
   "metadata": {},
   "outputs": [
    {
     "data": {
      "text/plain": [
       "[Text(0,0,'v0.1, c-0. Логопеды'),\n",
       " Text(0,0,'v0.1, e-0. 1-4 классы'),\n",
       " Text(0,0,'v0.1, f-0. Международные экзамены'),\n",
       " Text(0,0,'v0.1, g-1. ЕГЭ/ ОГЭ, 8 класс'),\n",
       " Text(0,0,'v0.1, g-2. ЕГЭ/ ОГЭ, 9 класс'),\n",
       " Text(0,0,'v0.1, g-3. ЕГЭ/ ОГЭ, 10 класс'),\n",
       " Text(0,0,'v0.1, g-4. ЕГЭ/ ОГЭ, 11 класс'),\n",
       " Text(0,0,'v0.1, g-5. ЕГЭ/ ОГЭ, студенты и взрослые'),\n",
       " Text(0,0,'v0.1, h-1. Основные школьные, 5-7 классы'),\n",
       " Text(0,0,'v0.1, h-2. Основные школьные, 8-11 классы'),\n",
       " Text(0,0,'v0.1, h-3. Основные школьные, студенты и взрослые'),\n",
       " Text(0,0,'v0.1, i-0. Не основные школьные, 5-11 классы'),\n",
       " Text(0,0,'v0.1, j-1. Важный экзамен, студенты и взрослые'),\n",
       " Text(0,0,'v0.1, j-2. Повышение успеваемости, студенты и взрослые'),\n",
       " Text(0,0,'v0.1, j-3. Для себя, студенты и взрослые'),\n",
       " Text(0,0,'v0.1, j-4. Музыка, студенты и взрослые')]"
      ]
     },
     "execution_count": 2,
     "metadata": {},
     "output_type": "execute_result"
    },
    {
     "data": {
      "image/png": "[encoded data removed]",
      "text/plain": [
       "<Figure size 432x288 with 1 Axes>"
      ]
     },
     "metadata": {},
     "output_type": "display_data"
    }
   ],
   "source": [
    "q = sns.barplot(x=\"order_typ_old\", y=\"order_id\", data=data_mismatch_group_by_type)\n",
    "q.set_xticklabels(q.get_xticklabels(), rotation=90)"
   ]
  },
  {
   "cell_type": "code",
   "execution_count": 3,
   "metadata": {},
   "outputs": [],
   "source": [
    "data_mismatch_group_by_month = data_mismatch.groupby('month_receivd', as_index = False)['order_id'].count()"
   ]
  },
  {
   "cell_type": "code",
   "execution_count": 4,
   "metadata": {},
   "outputs": [
    {
     "data": {
      "text/html": [
       "<div>\n",
       "<style scoped>\n",
       "    .dataframe tbody tr th:only-of-type {\n",
       "        vertical-align: middle;\n",
       "    }\n",
       "\n",
       "    .dataframe tbody tr th {\n",
       "        vertical-align: top;\n",
       "    }\n",
       "\n",
       "    .dataframe thead th {\n",
       "        text-align: right;\n",
       "    }\n",
       "</style>\n",
       "<table border=\"1\" class=\"dataframe\">\n",
       "  <thead>\n",
       "    <tr style=\"text-align: right;\">\n",
       "      <th></th>\n",
       "      <th>month_receivd</th>\n",
       "      <th>order_id</th>\n",
       "    </tr>\n",
       "  </thead>\n",
       "  <tbody>\n",
       "    <tr>\n",
       "      <th>0</th>\n",
       "      <td>2016_05</td>\n",
       "      <td>3712</td>\n",
       "    </tr>\n",
       "    <tr>\n",
       "      <th>1</th>\n",
       "      <td>2017_05</td>\n",
       "      <td>4698</td>\n",
       "    </tr>\n",
       "    <tr>\n",
       "      <th>2</th>\n",
       "      <td>2018_05</td>\n",
       "      <td>3471</td>\n",
       "    </tr>\n",
       "  </tbody>\n",
       "</table>\n",
       "</div>"
      ],
      "text/plain": [
       "  month_receivd  order_id\n",
       "0       2016_05      3712\n",
       "1       2017_05      4698\n",
       "2       2018_05      3471"
      ]
     },
     "execution_count": 4,
     "metadata": {},
     "output_type": "execute_result"
    }
   ],
   "source": [
    "data_mismatch_group_by_month"
   ]
  },
  {
   "cell_type": "code",
   "execution_count": 5,
   "metadata": {},
   "outputs": [
    {
     "data": {
      "image/png": "[encoded data removed]",
      "text/plain": [
       "<Figure size 432x288 with 1 Axes>"
      ]
     },
     "metadata": {},
     "output_type": "display_data"
    }
   ],
   "source": [
    "r = sns.barplot(x=\"month_receivd\", y=\"order_id\", data=data_mismatch_group_by_month)\n",
    "# loc1, labels1 = plt.xticks()\n",
    "# m = m.set_xticklabels(labels1, rotation=90)"
   ]
  },
  {
   "cell_type": "code",
   "execution_count": 6,
   "metadata": {},
   "outputs": [
    {
     "data": {
      "text/plain": [
       "Index(['month_id', 'order_id', 'receivd', 'month_receivd', 'study_year', 'kz',\n",
       "       'price', 'price0', 'stoim', 'wprice', 'aimi', 'uvozr', 'sz', 'ulevel',\n",
       "       'basic_typ', 'aim_ege_typ', 'ege_typ', 'word_ex_typ', 'music_typ',\n",
       "       'logoped_typ', 'order_typ_old', 'order_typ_new', 'country', 'city_id',\n",
       "       'new_group_mismatch'],\n",
       "      dtype='object')"
      ]
     },
     "execution_count": 6,
     "metadata": {},
     "output_type": "execute_result"
    }
   ],
   "source": [
    "data_mismatch.columns"
   ]
  },
  {
   "cell_type": "code",
   "execution_count": 7,
   "metadata": {},
   "outputs": [
    {
     "data": {
      "text/html": [
       "<div>\n",
       "<style scoped>\n",
       "    .dataframe tbody tr th:only-of-type {\n",
       "        vertical-align: middle;\n",
       "    }\n",
       "\n",
       "    .dataframe tbody tr th {\n",
       "        vertical-align: top;\n",
       "    }\n",
       "\n",
       "    .dataframe thead th {\n",
       "        text-align: right;\n",
       "    }\n",
       "</style>\n",
       "<table border=\"1\" class=\"dataframe\">\n",
       "  <thead>\n",
       "    <tr style=\"text-align: right;\">\n",
       "      <th></th>\n",
       "      <th>aimi</th>\n",
       "      <th>order_id</th>\n",
       "    </tr>\n",
       "  </thead>\n",
       "  <tbody>\n",
       "    <tr>\n",
       "      <th>0</th>\n",
       "      <td>-30</td>\n",
       "      <td>988</td>\n",
       "    </tr>\n",
       "    <tr>\n",
       "      <th>1</th>\n",
       "      <td>-20</td>\n",
       "      <td>158</td>\n",
       "    </tr>\n",
       "    <tr>\n",
       "      <th>2</th>\n",
       "      <td>-10</td>\n",
       "      <td>115</td>\n",
       "    </tr>\n",
       "    <tr>\n",
       "      <th>3</th>\n",
       "      <td>0</td>\n",
       "      <td>318</td>\n",
       "    </tr>\n",
       "    <tr>\n",
       "      <th>4</th>\n",
       "      <td>10</td>\n",
       "      <td>30</td>\n",
       "    </tr>\n",
       "    <tr>\n",
       "      <th>5</th>\n",
       "      <td>20</td>\n",
       "      <td>107</td>\n",
       "    </tr>\n",
       "    <tr>\n",
       "      <th>6</th>\n",
       "      <td>30</td>\n",
       "      <td>3162</td>\n",
       "    </tr>\n",
       "    <tr>\n",
       "      <th>7</th>\n",
       "      <td>40</td>\n",
       "      <td>7003</td>\n",
       "    </tr>\n",
       "  </tbody>\n",
       "</table>\n",
       "</div>"
      ],
      "text/plain": [
       "   aimi  order_id\n",
       "0   -30       988\n",
       "1   -20       158\n",
       "2   -10       115\n",
       "3     0       318\n",
       "4    10        30\n",
       "5    20       107\n",
       "6    30      3162\n",
       "7    40      7003"
      ]
     },
     "execution_count": 7,
     "metadata": {},
     "output_type": "execute_result"
    }
   ],
   "source": [
    "data_mismatch_group_by_aim = data_mismatch.groupby('aimi', as_index = False)['order_id'].count()\n",
    "data_mismatch_group_by_aim"
   ]
  },
  {
   "cell_type": "code",
   "execution_count": 8,
   "metadata": {},
   "outputs": [
    {
     "data": {
      "text/html": [
       "<div>\n",
       "<style scoped>\n",
       "    .dataframe tbody tr th:only-of-type {\n",
       "        vertical-align: middle;\n",
       "    }\n",
       "\n",
       "    .dataframe tbody tr th {\n",
       "        vertical-align: top;\n",
       "    }\n",
       "\n",
       "    .dataframe thead th {\n",
       "        text-align: right;\n",
       "    }\n",
       "</style>\n",
       "<table border=\"1\" class=\"dataframe\">\n",
       "  <thead>\n",
       "    <tr style=\"text-align: right;\">\n",
       "      <th></th>\n",
       "      <th>country</th>\n",
       "      <th>order_id</th>\n",
       "    </tr>\n",
       "  </thead>\n",
       "  <tbody>\n",
       "    <tr>\n",
       "      <th>0</th>\n",
       "      <td>by</td>\n",
       "      <td>84</td>\n",
       "    </tr>\n",
       "    <tr>\n",
       "      <th>1</th>\n",
       "      <td>kz</td>\n",
       "      <td>544</td>\n",
       "    </tr>\n",
       "    <tr>\n",
       "      <th>2</th>\n",
       "      <td>ru</td>\n",
       "      <td>10462</td>\n",
       "    </tr>\n",
       "    <tr>\n",
       "      <th>3</th>\n",
       "      <td>ua</td>\n",
       "      <td>791</td>\n",
       "    </tr>\n",
       "  </tbody>\n",
       "</table>\n",
       "</div>"
      ],
      "text/plain": [
       "  country  order_id\n",
       "0      by        84\n",
       "1      kz       544\n",
       "2      ru     10462\n",
       "3      ua       791"
      ]
     },
     "execution_count": 8,
     "metadata": {},
     "output_type": "execute_result"
    }
   ],
   "source": [
    "data_mismatch_country = data_mismatch.groupby('country', as_index = False)['order_id'].count()\n",
    "data_mismatch_country"
   ]
  },
  {
   "cell_type": "code",
   "execution_count": 1,
   "metadata": {},
   "outputs": [
    {
     "ename": "NameError",
     "evalue": "name 'sns' is not defined",
     "output_type": "error",
     "traceback": [
      "\u001b[0;31m---------------------------------------------------------------------------\u001b[0m",
      "\u001b[0;31mNameError\u001b[0m                                 Traceback (most recent call last)",
      "\u001b[0;32m<ipython-input-1-15f57e196ebf>\u001b[0m in \u001b[0;36m<module>\u001b[0;34m()\u001b[0m\n\u001b[0;32m----> 1\u001b[0;31m \u001b[0mm\u001b[0m \u001b[0;34m=\u001b[0m \u001b[0msns\u001b[0m\u001b[0;34m.\u001b[0m\u001b[0mbarplot\u001b[0m\u001b[0;34m(\u001b[0m\u001b[0mx\u001b[0m\u001b[0;34m=\u001b[0m\u001b[0;34m\"country\"\u001b[0m\u001b[0;34m,\u001b[0m \u001b[0my\u001b[0m\u001b[0;34m=\u001b[0m\u001b[0;34m\"order_id\"\u001b[0m\u001b[0;34m,\u001b[0m \u001b[0mdata\u001b[0m\u001b[0;34m=\u001b[0m\u001b[0mdata_mismatch_country\u001b[0m\u001b[0;34m)\u001b[0m\u001b[0;34m\u001b[0m\u001b[0m\n\u001b[0m",
      "\u001b[0;31mNameError\u001b[0m: name 'sns' is not defined"
     ]
    }
   ],
   "source": [
    "m = sns.barplot(x=\"country\", y=\"order_id\", data=data_mismatch_country)"
   ]
  },
  {
   "cell_type": "code",
   "execution_count": null,
   "metadata": {},
   "outputs": [],
   "source": []
  }
 ],
 "metadata": {
  "kernelspec": {
   "display_name": "Python 3",
   "language": "python",
   "name": "python3"
  },
  "language_info": {
   "codemirror_mode": {
    "name": "ipython",
    "version": 3
   },
   "file_extension": ".py",
   "mimetype": "text/x-python",
   "name": "python",
   "nbconvert_exporter": "python",
   "pygments_lexer": "ipython3",
   "version": "3.7.0"
  }
 },
 "nbformat": 4,
 "nbformat_minor": 2
}
